{
 "cells": [
  {
   "cell_type": "code",
   "execution_count": 1,
   "id": "eba7e6d7",
   "metadata": {},
   "outputs": [],
   "source": [
    "import easytrader\n",
    "import pandas as pd\n",
    "import datetime\n",
    "from WindPy import w\n",
    "import requests\n",
    "import datetime\n",
    "from Portfolio import portfolio\n",
    "import time\n",
    "import matplotlib.pyplot as plt"
   ]
  },
  {
   "cell_type": "code",
   "execution_count": 2,
   "id": "038c9316",
   "metadata": {
    "scrolled": true
   },
   "outputs": [
    {
     "name": "stdout",
     "output_type": "stream",
     "text": [
      "Welcome to use Wind Quant API for Python (WindPy)!\n",
      "\n",
      "COPYRIGHT (C) 2020 WIND INFORMATION CO., LTD. ALL RIGHTS RESERVED.\n",
      "IN NO CIRCUMSTANCE SHALL WIND BE RESPONSIBLE FOR ANY DAMAGES OR LOSSES CAUSED BY USING WIND QUANT API FOR Python.\n"
     ]
    },
    {
     "data": {
      "text/plain": [
       ".ErrorCode=0\n",
       ".Data=[OK!]"
      ]
     },
     "execution_count": 2,
     "metadata": {},
     "output_type": "execute_result"
    }
   ],
   "source": [
    "w.start()"
   ]
  },
  {
   "cell_type": "code",
   "execution_count": 4,
   "id": "9a39a8fe",
   "metadata": {},
   "outputs": [],
   "source": [
    "position = {\n",
    "    \"160325.SZ\":{\n",
    "        \"price\":w.wsq('160325.SZ', 'rt_last').Data[0][0],\n",
    "        \"shares\":0,\n",
    "        \"expiration\":0.857534\n",
    "    }, \n",
    "    \"161040.SZ\":{\n",
    "        \"price\":w.wsq('161040.SZ', 'rt_last').Data[0][0],\n",
    "        \"shares\":0,\n",
    "        \"expiration\":0.90137\n",
    "    }, \n",
    "    \"501082.SH\":{\n",
    "        \"price\":w.wsq('501082.SH', 'rt_last').Data[0][0],\n",
    "        \"shares\":0,\n",
    "        \"expiration\":0.947945\n",
    "    }, \n",
    "    \"506002.SH\":{\n",
    "        \"price\":w.wsq('506002.SH', 'rt_last').Data[0][0],\n",
    "        \"shares\":0,\n",
    "        \"expiration\":0.986301\n",
    "    },\n",
    "    \"160926.SZ\":{\n",
    "        \"price\":w.wsq('160926.SZ', 'rt_last').Data[0][0],\n",
    "        \"shares\":0,\n",
    "        \"expiration\":0.945205\n",
    "    }\n",
    "}\n",
    "\n",
    "fee = 0.2/100\n",
    "\n",
    "naive = portfolio(cash = 1000000, position = position, cost = fee)"
   ]
  },
  {
   "cell_type": "code",
   "execution_count": 9,
   "id": "36e40483",
   "metadata": {},
   "outputs": [],
   "source": [
    "def naive1(interval, times, portfolio):\n",
    "    \n",
    "    cur_times = 0\n",
    "    \n",
    "    log_df = pd.DataFrame()\n",
    "    \n",
    "    while cur_times != times:\n",
    "        \n",
    "        now = datetime.datetime.now()\n",
    "        print(now)\n",
    "        \n",
    "        naive.get_balance()\n",
    "        \n",
    "        # 1. create snapshot to document price and NAV\n",
    "        snapshot = {now : {}}\n",
    "        for ticker, info in portfolio.position.items():\n",
    "            \n",
    "            code = ticker.split('.')[0]\n",
    "            headers = {\n",
    "                'content-type': 'application/json',\n",
    "                'User-Agent': 'Mozilla/5.0 (X11; Ubuntu; Linux x86_64; rv:22.0) Gecko/20100101 Firefox/22.0'\n",
    "            }\n",
    "            response = requests.get(f'https://fundgz.1234567.com.cn/js/{code}.js', headers=headers)\n",
    "            NAV = float(eval(response.text.replace('jsonpgz(', '').replace(');', ''))['gsz'])\n",
    "            \n",
    "            Price = w.wsq(ticker, 'rt_last').Data[0][0]\n",
    "            info['price'] = Price\n",
    "            \n",
    "            AnnualizedRateOfReturn = ((NAV/Price)**(1/info['expiration'])-1)*100\n",
    "            \n",
    "            #NAV, Price, AnnualizedRateOfReturn\n",
    "            snapshot[now][ticker + ' NAV'] = NAV\n",
    "            snapshot[now][ticker + ' Price'] = Price\n",
    "            snapshot[now][ticker + ' AnnualizedRateOfReturn'] = AnnualizedRateOfReturn\n",
    "            \n",
    "        tickerWithMaxAnnualizedRateOfReturn = max([(v, k) for k, v in snapshot[now].items() if 'AnnualizedRateOfReturn' in k])[1].split(' ')[0]\n",
    "        print(tickerWithMaxAnnualizedRateOfReturn)\n",
    "        \n",
    "        # 2. Trade\n",
    "        trade = 0\n",
    "        for k, v in snapshot[now].items():\n",
    "            print(k, v)\n",
    "        \n",
    "        min_benchmark = 100\n",
    "        zero_holding_ticker = None\n",
    "        \n",
    "        for ticker, info in portfolio.position.items():\n",
    "            \n",
    "            if snapshot[now][ticker + ' AnnualizedRateOfReturn'] < min_benchmark and info['shares'] != 0:\n",
    "                \n",
    "                min_ticker = ticker\n",
    "                min_benchmark = snapshot[now][ticker + ' AnnualizedRateOfReturn']\n",
    "            \n",
    "            if info['shares'] == 0:\n",
    "                \n",
    "                zero_holding_ticker = ticker\n",
    "                \n",
    "        if snapshot[now][zero_holding_ticker + ' AnnualizedRateOfReturn'] - snapshot[now][min_ticker + ' AnnualizedRateOfReturn'] >= 1:\n",
    "            \n",
    "            trade = 1\n",
    "            sell_cost = naive.position[min_ticker]['shares'] * naive.position[min_ticker]['price'] * fee\n",
    "            naive.sell(min_ticker, naive.position[min_ticker]['shares'], sell_cost)\n",
    "            \n",
    "        snapshot[now]['Capital'] = naive.get_capital()\n",
    "        naive.get_balance()\n",
    "        buy_cost = naive.cash * fee\n",
    "        buy_shares = round((naive.cash - buy_cost)/snapshot[now][zero_holding_ticker + ' price'], -3)\n",
    "        naive.buy(zero_holding_ticker, buy_shares, buy_cost)\n",
    "          \n",
    "            \n",
    "        snapshot[now]['Capital'] = naive.get_capital()\n",
    "        snapshot[now]['Trade'] = trade\n",
    "        log_df = log_df.append(pd.DataFrame(snapshot).T)\n",
    "            \n",
    "        naive.get_balance()\n",
    "        \n",
    "        cur_times += 1\n",
    "        time.sleep(interval)\n",
    "        print('--'*50)\n",
    "    \n",
    "    return log_df"
   ]
  },
  {
   "cell_type": "code",
   "execution_count": 17,
   "id": "ceb41183",
   "metadata": {},
   "outputs": [
    {
     "name": "stdout",
     "output_type": "stream",
     "text": [
      "2021-08-06 09:30:47.806203\n",
      "Cash: 1000000\n",
      "160325.SZ: \n",
      "      Price:   0.0\n",
      "      Shares     0\n",
      "161040.SZ: \n",
      "      Price:   0.0\n",
      "      Shares     0\n",
      "501082.SH: \n",
      "      Price:   0.0\n",
      "      Shares     0\n",
      "506002.SH: \n",
      "      Price:   0.0\n",
      "      Shares     0\n",
      "160926.SZ: \n",
      "      Price:   0.0\n",
      "      Shares     0\n",
      "Capital: 1000000.0\n",
      "160325.SZ\n",
      "160325.SZ NAV 1.3398\n",
      "160325.SZ Price 1.175\n",
      "160325.SZ AnnualizedRateOfReturn 16.539224702059663\n",
      "161040.SZ NAV 1.5169\n",
      "161040.SZ Price 1.375\n",
      "161040.SZ AnnualizedRateOfReturn 11.511993731499448\n",
      "501082.SH NAV 2.4392\n",
      "501082.SH Price 2.191\n",
      "501082.SH AnnualizedRateOfReturn 11.986141292171148\n",
      "506002.SH NAV 1.3399\n",
      "506002.SH Price 1.17\n",
      "506002.SH AnnualizedRateOfReturn 14.73724460640251\n",
      "160926.SZ NAV 1.3901\n",
      "160926.SZ Price 1.216\n",
      "160926.SZ AnnualizedRateOfReturn 15.207655394994802\n"
     ]
    },
    {
     "ename": "UnboundLocalError",
     "evalue": "local variable 'min_ticker' referenced before assignment",
     "output_type": "error",
     "traceback": [
      "\u001b[1;31m---------------------------------------------------------------------------\u001b[0m",
      "\u001b[1;31mUnboundLocalError\u001b[0m                         Traceback (most recent call last)",
      "\u001b[1;32m~\\AppData\\Local\\Temp/ipykernel_5864/4144707686.py\u001b[0m in \u001b[0;36m<module>\u001b[1;34m\u001b[0m\n\u001b[1;32m----> 1\u001b[1;33m \u001b[0mlog_df\u001b[0m \u001b[1;33m=\u001b[0m \u001b[0mnaive1\u001b[0m\u001b[1;33m(\u001b[0m\u001b[1;36m60\u001b[0m\u001b[1;33m,\u001b[0m \u001b[1;36m10\u001b[0m\u001b[1;33m,\u001b[0m \u001b[0mnaive\u001b[0m\u001b[1;33m)\u001b[0m\u001b[1;33m\u001b[0m\u001b[1;33m\u001b[0m\u001b[0m\n\u001b[0m",
      "\u001b[1;32m~\\AppData\\Local\\Temp/ipykernel_5864/4144687686.py\u001b[0m in \u001b[0;36mnaive1\u001b[1;34m(interval, times, portfolio)\u001b[0m\n\u001b[0;32m     54\u001b[0m                 \u001b[0mzero_holding_ticker\u001b[0m \u001b[1;33m=\u001b[0m \u001b[0mticker\u001b[0m\u001b[1;33m\u001b[0m\u001b[1;33m\u001b[0m\u001b[0m\n\u001b[0;32m     55\u001b[0m \u001b[1;33m\u001b[0m\u001b[0m\n\u001b[1;32m---> 56\u001b[1;33m         \u001b[1;32mif\u001b[0m \u001b[0msnapshot\u001b[0m\u001b[1;33m[\u001b[0m\u001b[0mnow\u001b[0m\u001b[1;33m]\u001b[0m\u001b[1;33m[\u001b[0m\u001b[0mzero_holding_ticker\u001b[0m \u001b[1;33m+\u001b[0m \u001b[1;34m' AnnualizedRateOfReturn'\u001b[0m\u001b[1;33m]\u001b[0m \u001b[1;33m-\u001b[0m \u001b[0msnapshot\u001b[0m\u001b[1;33m[\u001b[0m\u001b[0mnow\u001b[0m\u001b[1;33m]\u001b[0m\u001b[1;33m[\u001b[0m\u001b[0mmin_ticker\u001b[0m \u001b[1;33m+\u001b[0m \u001b[1;34m' AnnualizedRateOfReturn'\u001b[0m\u001b[1;33m]\u001b[0m \u001b[1;33m>=\u001b[0m \u001b[1;36m1\u001b[0m\u001b[1;33m:\u001b[0m\u001b[1;33m\u001b[0m\u001b[1;33m\u001b[0m\u001b[0m\n\u001b[0m\u001b[0;32m     57\u001b[0m \u001b[1;33m\u001b[0m\u001b[0m\n\u001b[0;32m     58\u001b[0m             \u001b[0mtrade\u001b[0m \u001b[1;33m=\u001b[0m \u001b[1;36m1\u001b[0m\u001b[1;33m\u001b[0m\u001b[1;33m\u001b[0m\u001b[0m\n",
      "\u001b[1;31mUnboundLocalError\u001b[0m: local variable 'min_ticker' referenced before assignment"
     ]
    }
   ],
   "source": [
    "log_df = naive1(60, 10, naive)"
   ]
  },
  {
   "cell_type": "code",
   "execution_count": 12,
   "id": "5645d6b1",
   "metadata": {},
   "outputs": [],
   "source": [
    "from multiprocessing import Process"
   ]
  },
  {
   "cell_type": "code",
   "execution_count": 15,
   "id": "edcd8601",
   "metadata": {},
   "outputs": [
    {
     "data": {
      "text/plain": [
       "4"
      ]
     },
     "execution_count": 15,
     "metadata": {},
     "output_type": "execute_result"
    }
   ],
   "source": [
    "import multiprocessing\n",
    "multiprocessing.cpu_count()"
   ]
  },
  {
   "cell_type": "code",
   "execution_count": null,
   "id": "8fc7200e",
   "metadata": {},
   "outputs": [],
   "source": []
  }
 ],
 "metadata": {
  "kernelspec": {
   "display_name": "Python 3 (ipykernel)",
   "language": "python",
   "name": "python3"
  },
  "language_info": {
   "codemirror_mode": {
    "name": "ipython",
    "version": 3
   },
   "file_extension": ".py",
   "mimetype": "text/x-python",
   "name": "python",
   "nbconvert_exporter": "python",
   "pygments_lexer": "ipython3",
   "version": "3.8.10"
  }
 },
 "nbformat": 4,
 "nbformat_minor": 5
}
