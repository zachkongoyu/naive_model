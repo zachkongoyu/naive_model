{
 "cells": [
  {
   "cell_type": "code",
   "execution_count": 2,
   "id": "f32d6c99",
   "metadata": {
    "scrolled": true
   },
   "outputs": [],
   "source": [
    "import pandas as pd\n",
    "import datetime\n",
    "from WindPy import w\n",
    "import requests\n",
    "from Portfolio import portfolio\n",
    "import time\n",
    "import matplotlib.pyplot as plt\n",
    "import easytrader\n",
    "import pprint\n",
    "import math"
   ]
  },
  {
   "cell_type": "code",
   "execution_count": 3,
   "id": "d849fc78",
   "metadata": {},
   "outputs": [],
   "source": [
    "def rounddown(x, n):\n",
    "    return int(math.floor(x / n)) * n"
   ]
  },
  {
   "cell_type": "markdown",
   "id": "3bf1affb",
   "metadata": {},
   "source": [
    "# 1. Connect to Wind and 华泰"
   ]
  },
  {
   "cell_type": "code",
   "execution_count": 4,
   "id": "1008851d",
   "metadata": {
    "scrolled": false
   },
   "outputs": [
    {
     "name": "stdout",
     "output_type": "stream",
     "text": [
      "Welcome to use Wind Quant API for Python (WindPy)!\n",
      "\n",
      "COPYRIGHT (C) 2020 WIND INFORMATION CO., LTD. ALL RIGHTS RESERVED.\n",
      "IN NO CIRCUMSTANCE SHALL WIND BE RESPONSIBLE FOR ANY DAMAGES OR LOSSES CAUSED BY USING WIND QUANT API FOR Python.\n"
     ]
    },
    {
     "data": {
      "text/plain": [
       ".ErrorCode=0\n",
       ".Data=[OK!]"
      ]
     },
     "execution_count": 4,
     "metadata": {},
     "output_type": "execute_result"
    }
   ],
   "source": [
    "# start WInd\n",
    "w.start()"
   ]
  },
  {
   "cell_type": "markdown",
   "id": "503b2654",
   "metadata": {},
   "source": [
    "# 2. Get the current position"
   ]
  },
  {
   "cell_type": "markdown",
   "id": "e6c62ca5",
   "metadata": {},
   "source": [
    "## Set up position template\n",
    "## Our desired funds\n",
    "### 1. 160325.SZ 华夏创业 2022/7/24\n",
    "### 2. 160926.SZ 创业大成 2022/7/16\n",
    "### 3. 501080.SH 科创中金 2022/7/11\n",
    "### 4. 501082.SH 科创投资 2022/6/27\n",
    "### 5. 506002.SH 易基科创 2022/7/28\n",
    "### 6. 506003.SH 富国科创 2022/7/29\n",
    "### 7. 506006.SH 添富科创 2022/7/28"
   ]
  },
  {
   "cell_type": "code",
   "execution_count": 9,
   "id": "b1608645",
   "metadata": {},
   "outputs": [],
   "source": [
    "position = {\n",
    "    \"160325\":{\n",
    "        \"name\":\"华夏创业\",\n",
    "        \"ticker\":\"160325.SZ\",\n",
    "        \"price\":w.wsq('160325.SZ', 'rt_last').Data[0][0],\n",
    "        \"shares\":0,\n",
    "        \"expiration\":(datetime.datetime(2022, 7, 24, 0, 0, 0) - datetime.datetime.now()).days/365\n",
    "    }, \n",
    "    \"160926\":{\n",
    "        \"name\":\"创业大成\",\n",
    "        \"ticker\":\"160926.SZ\",\n",
    "        \"price\":w.wsq('160926.SZ', 'rt_last').Data[0][0],\n",
    "        \"shares\":0,\n",
    "        \"expiration\":(datetime.datetime(2022, 7, 16, 0, 0, 0) - datetime.datetime.now()).days/365\n",
    "    }, \n",
    "    \"501080\":{\n",
    "        \"name\":\"科创中金\",\n",
    "        \"ticker\":\"501080.SH\",\n",
    "        \"price\":w.wsq('501080.SH', 'rt_last').Data[0][0],\n",
    "        \"shares\":0,\n",
    "        \"expiration\":(datetime.datetime(2022, 7, 11, 0, 0, 0) - datetime.datetime.now()).days/365\n",
    "    },\n",
    "    \"501082\":{\n",
    "        \"name\":\"科创投资\",\n",
    "        \"ticker\":\"501082.SH\",\n",
    "        \"price\":w.wsq('501082.SH', 'rt_last').Data[0][0],\n",
    "        \"shares\":0,\n",
    "        \"expiration\":(datetime.datetime(2022, 6, 27, 0, 0, 0) - datetime.datetime.now()).days/365\n",
    "    },\n",
    "    \"506002\":{\n",
    "        \"name\":\"易基科创\",\n",
    "        \"ticker\":\"506002.SH\",\n",
    "        \"price\":w.wsq('506002.SH', 'rt_last').Data[0][0],\n",
    "        \"shares\":0,\n",
    "        \"expiration\":(datetime.datetime(2022, 7, 28, 0, 0, 0) - datetime.datetime.now()).days/365\n",
    "    },\n",
    "    \"506003\":{\n",
    "        \"name\":\"富国科创\",\n",
    "        \"ticker\":\"506003.SH\",\n",
    "        \"price\":w.wsq('506003.SH', 'rt_last').Data[0][0],\n",
    "        \"shares\":0,\n",
    "        \"expiration\":(datetime.datetime(2022, 7, 29, 0, 0, 0) - datetime.datetime.now()).days/365\n",
    "    },\n",
    "    \"506006\":{\n",
    "        \"name\":\"添富科创\",\n",
    "        \"ticker\":\"506006.SH\",\n",
    "        \"price\":w.wsq('506006.SH', 'rt_last').Data[0][0],\n",
    "        \"shares\":0,\n",
    "        \"expiration\":(datetime.datetime(2022, 7, 28, 0, 0, 0) - datetime.datetime.now()).days/365\n",
    "    },\n",
    "}\n",
    "\n",
    "ht_position = user.position\n",
    "\n",
    "for holding in ht_position:\n",
    "    if holding['证券代码'] in position.keys():\n",
    "        position[holding['证券代码']]['shares'] = round(holding['市值']/holding['市价'], -2)\n",
    "        \n",
    "fee = 0.00003"
   ]
  },
  {
   "cell_type": "markdown",
   "id": "9a29fd84",
   "metadata": {},
   "source": [
    "## Read 华泰 position and balance"
   ]
  },
  {
   "cell_type": "code",
   "execution_count": 10,
   "id": "9db2b691",
   "metadata": {},
   "outputs": [],
   "source": [
    "log_df = pd.DataFrame()"
   ]
  },
  {
   "cell_type": "code",
   "execution_count": 11,
   "id": "ebf98389",
   "metadata": {},
   "outputs": [],
   "source": [
    "threshold = 1.5\n",
    "interval = 60"
   ]
  },
  {
   "cell_type": "code",
   "execution_count": 24,
   "id": "74a3a91b",
   "metadata": {
    "scrolled": true
   },
   "outputs": [
    {
     "name": "stdout",
     "output_type": "stream",
     "text": [
      "14:56:47.731576\n",
      "Holdings: \n",
      "{'160926': 13.93, '506006': 13.82, '160325': 13.7, '506003': 13.51}\n",
      "Not in holdings: \n",
      "{'506002': 12.69, '501082': 12.65, '501080': 12.21}\n",
      "14:57:53.498700\n",
      "Holdings: \n",
      "{'506006': 13.87, '160926': 13.83, '160325': 13.7, '506003': 13.53}\n",
      "Not in holdings: \n",
      "{'506002': 12.69, '501082': 12.59, '501080': 12.19}\n",
      "14:58:58.491011\n",
      "Holdings: \n",
      "{'160926': 13.92, '506006': 13.87, '160325': 13.79, '506003': 13.44}\n",
      "Not in holdings: \n",
      "{'501082': 12.6, '506002': 12.56, '501080': 12.2}\n"
     ]
    }
   ],
   "source": [
    "dt = datetime.datetime.now()\n",
    "\n",
    "while dt.time() < datetime.time(15):\n",
    "\n",
    "    print(dt.time())\n",
    "    now = datetime.datetime.now()\n",
    "\n",
    "    # 1. create snapshot to document price and NAV\n",
    "    snapshot = {now : {}}\n",
    "    for code, info in position.items():\n",
    "\n",
    "        headers = {\n",
    "            'content-type': 'application/json',\n",
    "            'User-Agent': 'Mozilla/5.0 (X11; Ubuntu; Linux x86_64; rv:22.0) Gecko/20100101 Firefox/22.0'\n",
    "        }\n",
    "\n",
    "        response = requests.get(f'https://fundgz.1234567.com.cn/js/{code}.js', headers=headers)\n",
    "        NAV = float(eval(response.text.replace('jsonpgz(', '').replace(');', ''))['gsz'])\n",
    "\n",
    "        Price = w.wsq(info['ticker'], 'rt_last').Data[0][0]\n",
    "        info['price'] = Price\n",
    "        AnnualizedRateOfReturn = round(((NAV/Price)**(1/info['expiration'])-1)*100, 2)\n",
    "        #NAV, Price, AnnualizedRateOfReturn\n",
    "        snapshot[now][code + ' NAV'] = NAV\n",
    "        snapshot[now][code + ' Price'] = Price\n",
    "        snapshot[now][code + ' AnnualizedRateOfReturn (%)'] = AnnualizedRateOfReturn\n",
    "\n",
    "    in_ranks = {k:v for k,v in snapshot[now].items() if \"AnnualizedRateOfReturn (%)\" in k and position[k.split(' ')[0]]['shares'] != 0}\n",
    "    out_ranks = {k:v for k,v in snapshot[now].items() if \"AnnualizedRateOfReturn (%)\" in k and position[k.split(' ')[0]]['shares'] == 0}\n",
    "    in_ranks = {k.split(' ')[0]:snapshot[now][k] for k in sorted(in_ranks, key=in_ranks.get, reverse=True)}        \n",
    "    out_ranks = {k.split(' ')[0]:snapshot[now][k] for k in sorted(out_ranks, key=out_ranks.get, reverse=True)}\n",
    "    print(\"Holdings: \")\n",
    "    print(in_ranks)\n",
    "    print(\"Not in holdings: \")\n",
    "    print(out_ranks)\n",
    "\n",
    "    # 2. Trade\n",
    "    if list(out_ranks.items())[0][1] - list(in_ranks.items())[-1][1] >= threshold:\n",
    "        sale = list(in_ranks.items())[-1][0]\n",
    "        purchase = list(out_ranks.items())[0][0]\n",
    "        print(f\"Sell {sale} Buy {purchase}\")\n",
    "        \n",
    "        for fund in user.position:\n",
    "            if fund['证券代码'] == sale:\n",
    "                check_sale = fund\n",
    "                \n",
    "        for fund in user.position:\n",
    "            if fund['证券代码'] == purchase:\n",
    "                check_purchase = fund\n",
    "        \n",
    "        sell_price = position[sale]['price']\n",
    "        sell_result = user.sell(sale, price=sell_price, amount=check_sale['股票余额'])\n",
    "        print(\"Sell: \", sell_result, \"Price: \", sell_price, \"Shares: \", check_sale['股票余额'])\n",
    "        \n",
    "        time.sleep(60)\n",
    "        \n",
    "        while True:\n",
    "            print(check_sale['证券代码'], check_sale['股票余额'])\n",
    "            if check_sale['股票余额'] == 0:\n",
    "                break\n",
    "            else:\n",
    "                user.cancel_entrust(sell_result[\"entrust_no\"])\n",
    "                sell_price = sell_price - 0.001\n",
    "                sell_result = user.sell(sale, price=sell_price, amount=check_sale['股票余额'])\n",
    "                print(\"Sell: \", sell_result, \"Price: \", sell_price, \"Shares: \", check_sale['股票余额'])\n",
    "\n",
    "            time.sleep(60)\n",
    "            \n",
    "            for fund in user.position:\n",
    "                if fund['证券代码'] == sale:\n",
    "                    check_sale = fund\n",
    "\n",
    "        buy_price = position[purchase]['price']\n",
    "        purchase_amount = rounddown((user.balance['可用金额'] * fee)/buy_price, 100)\n",
    "        buy_result = user.buy(purchase, price=buy_price, amount=purchase_amount)\n",
    "        print(\"Buy: \", buy_result, \"Price: \", buy_price, \"Shares: \", purchase_amount) \n",
    "        \n",
    "        time.sleep(60)\n",
    "        \n",
    "        while True:\n",
    "            purchase_amount = rounddown((user.balance['可用金额'] * fee)/buy_price, 100)\n",
    "            print(check_purchase['证券代码'], check_purchase['股票余额'])\n",
    "            if purchase_amount == 0:\n",
    "                break\n",
    "            else:\n",
    "                user.cancel_entrust(buy_result[\"entrust_no\"])\n",
    "                buy_price = buy_price + 0.001\n",
    "                buy_result = user.buy(purchase, price=buy_price, amount=purchase_amount)\n",
    "                print(\"Buy: \", buy_result, \"Price: \", buy_price, \"Shares: \", purchase_amount)\n",
    "\n",
    "            time.sleep(60)\n",
    "            \n",
    "            for fund in user.position:\n",
    "                if fund['证券代码'] == purchase:\n",
    "                    check_purchase = fund\n",
    "\n",
    "    ht_position = user.position\n",
    "\n",
    "    for holding in ht_position:\n",
    "        if holding['证券代码'] in position.keys():\n",
    "            position[holding['证券代码']]['shares'] = round(holding['市值']/holding['市价'], -2)\n",
    "\n",
    "    time.sleep(interval)\n",
    "            \n",
    "    dt = datetime.datetime.now()\n",
    "\n",
    "    log_df = pd.concat([log_df, pd.DataFrame(snapshot).T], axis=0)"
   ]
  },
  {
   "cell_type": "code",
   "execution_count": 23,
   "id": "37c62f6d",
   "metadata": {},
   "outputs": [
    {
     "data": {
      "text/plain": [
       "<AxesSubplot:>"
      ]
     },
     "execution_count": 23,
     "metadata": {},
     "output_type": "execute_result"
    },
    {
     "data": {
      "image/png": "[encoded data removed]",
      "text/plain": [
       "<Figure size 432x288 with 1 Axes>"
      ]
     },
     "metadata": {
      "needs_background": "light"
     },
     "output_type": "display_data"
    }
   ],
   "source": [
    "log_df['160325 AnnualizedRateOfReturn (%)'].plot()\n",
    "log_df['160926 AnnualizedRateOfReturn (%)'].plot()\n",
    "log_df['501080 AnnualizedRateOfReturn (%)'].plot()\n",
    "log_df['501082 AnnualizedRateOfReturn (%)'].plot()\n",
    "log_df['506002 AnnualizedRateOfReturn (%)'].plot()\n",
    "log_df['506003 AnnualizedRateOfReturn (%)'].plot()\n",
    "log_df['506006 AnnualizedRateOfReturn (%)'].plot()"
   ]
  },
  {
   "cell_type": "code",
   "execution_count": 25,
   "id": "c1c38b8f",
   "metadata": {},
   "outputs": [
    {
     "data": {
      "text/plain": [
       "<AxesSubplot:>"
      ]
     },
     "execution_count": 25,
     "metadata": {},
     "output_type": "execute_result"
    },
    {
     "data": {
      "image/png": "[encoded data removed]",
      "text/plain": [
       "<Figure size 432x288 with 1 Axes>"
      ]
     },
     "metadata": {
      "needs_background": "light"
     },
     "output_type": "display_data"
    }
   ],
   "source": [
    "log_df['160325 NAV'].plot()\n",
    "log_df['160926 NAV'].plot()\n",
    "log_df['501080 NAV'].plot()\n",
    "log_df['501082 NAV'].plot()\n",
    "log_df['506002 NAV'].plot()\n",
    "log_df['506003 NAV'].plot()\n",
    "log_df['506006 NAV'].plot()"
   ]
  },
  {
   "cell_type": "code",
   "execution_count": 28,
   "id": "62e4b473",
   "metadata": {},
   "outputs": [
    {
     "data": {
      "text/plain": [
       "<AxesSubplot:>"
      ]
     },
     "execution_count": 28,
     "metadata": {},
     "output_type": "execute_result"
    },
    {
     "data": {
      "image/png": "[encoded data removed]",
      "text/plain": [
       "<Figure size 432x288 with 1 Axes>"
      ]
     },
     "metadata": {
      "needs_background": "light"
     },
     "output_type": "display_data"
    }
   ],
   "source": [
    "log_df['160325 Price'].plot()"
   ]
  },
  {
   "cell_type": "code",
   "execution_count": 30,
   "id": "adce4196",
   "metadata": {
    "scrolled": true
   },
   "outputs": [],
   "source": [
    "headers = {\n",
    "    'content-type': 'application/json',\n",
    "    'User-Agent': 'Mozilla/5.0 (X11; Ubuntu; Linux x86_64; rv:22.0) Gecko/20100101 Firefox/22.0'\n",
    "}\n",
    "\n",
    "response = requests.get('https://fundgz.1234567.com.cn/js/160926.js', headers=headers)\n",
    "NAV = float(eval(response.text.replace('jsonpgz(', '').replace(');', ''))['gsz'])"
   ]
  },
  {
   "cell_type": "code",
   "execution_count": 32,
   "id": "d8eccc2b",
   "metadata": {},
   "outputs": [
    {
     "data": {
      "text/plain": [
       "{'fundcode': '160926',\n",
       " 'name': '大成创业板两年定开混合A',\n",
       " 'jzrq': '2021-08-09',\n",
       " 'dwjz': '1.3569',\n",
       " 'gsz': '1.3613',\n",
       " 'gszzl': '0.33',\n",
       " 'gztime': '2021-08-10 15:00'}"
      ]
     },
     "execution_count": 32,
     "metadata": {},
     "output_type": "execute_result"
    }
   ],
   "source": [
    "eval(response.text.replace('jsonpgz(', '').replace(');', ''))"
   ]
  },
  {
   "cell_type": "code",
   "execution_count": null,
   "id": "6c1e0f25",
   "metadata": {},
   "outputs": [],
   "source": []
  }
 ],
 "metadata": {
  "kernelspec": {
   "display_name": "Python 3 (ipykernel)",
   "language": "python",
   "name": "python3"
  },
  "language_info": {
   "codemirror_mode": {
    "name": "ipython",
    "version": 3
   },
   "file_extension": ".py",
   "mimetype": "text/x-python",
   "name": "python",
   "nbconvert_exporter": "python",
   "pygments_lexer": "ipython3",
   "version": "3.9.6"
  }
 },
 "nbformat": 4,
 "nbformat_minor": 5
}
