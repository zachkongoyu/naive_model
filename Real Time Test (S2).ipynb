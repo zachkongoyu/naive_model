{
 "cells": [
  {
   "cell_type": "code",
   "execution_count": 1,
   "id": "577b719f",
   "metadata": {
    "scrolled": true
   },
   "outputs": [],
   "source": [
    "import pandas as pd\n",
    "import datetime\n",
    "from WindPy import w\n",
    "import requests\n",
    "from Portfolio import portfolio\n",
    "import time\n",
    "import matplotlib.pyplot as plt\n",
    "import easytrader\n",
    "import pprint"
   ]
  },
  {
   "cell_type": "markdown",
   "id": "0efcbede",
   "metadata": {},
   "source": [
    "# 1. Connect to Wind and 华泰"
   ]
  },
  {
   "cell_type": "code",
   "execution_count": null,
   "id": "bcd5e940",
   "metadata": {
    "scrolled": false
   },
   "outputs": [],
   "source": [
    "# start WInd\n",
    "w.start()"
   ]
  },
  {
   "cell_type": "code",
   "execution_count": 2,
   "id": "df73c96f",
   "metadata": {
    "scrolled": true
   },
   "outputs": [],
   "source": [
    "# start 华泰\n",
    "user = easytrader.use('ht_client')\n",
    "user.prepare(user='666637575127', password='671109', comm_password='246810')"
   ]
  },
  {
   "cell_type": "markdown",
   "id": "3c36a7fb",
   "metadata": {},
   "source": [
    "# 2. Get the current position"
   ]
  },
  {
   "cell_type": "markdown",
   "id": "d18f6ba0",
   "metadata": {},
   "source": [
    "## Set up position template\n",
    "## Our desired funds\n",
    "### 1. 160325.SZ 华夏创业 2022/7/24\n",
    "### 2. 160926.SZ 创业大成 2022/7/16\n",
    "### 3. 501080.SH 科创中金 2022/7/11\n",
    "### 4. 501082.SH 科创投资 2022/6/27\n",
    "### 5. 506002.SH 易基科创 2022/7/28\n",
    "### 6. 506003.SH 富国科创 2022/7/29\n",
    "### 7. 506006.SH 添富科创 2022/7/28"
   ]
  },
  {
   "cell_type": "code",
   "execution_count": 3,
   "id": "003fb57b",
   "metadata": {},
   "outputs": [
    {
     "ename": "IndexError",
     "evalue": "list index out of range",
     "output_type": "error",
     "traceback": [
      "\u001b[1;31m---------------------------------------------------------------------------\u001b[0m",
      "\u001b[1;31mIndexError\u001b[0m                                Traceback (most recent call last)",
      "\u001b[1;32m~\\AppData\\Local\\Temp/ipykernel_4596/3229035526.py\u001b[0m in \u001b[0;36m<module>\u001b[1;34m\u001b[0m\n\u001b[0;32m      3\u001b[0m         \u001b[1;34m\"name\"\u001b[0m\u001b[1;33m:\u001b[0m\u001b[1;34m\"华夏创业\"\u001b[0m\u001b[1;33m,\u001b[0m\u001b[1;33m\u001b[0m\u001b[1;33m\u001b[0m\u001b[0m\n\u001b[0;32m      4\u001b[0m         \u001b[1;34m\"ticker\"\u001b[0m\u001b[1;33m:\u001b[0m\u001b[1;34m\"160325.SZ\"\u001b[0m\u001b[1;33m,\u001b[0m\u001b[1;33m\u001b[0m\u001b[1;33m\u001b[0m\u001b[0m\n\u001b[1;32m----> 5\u001b[1;33m         \u001b[1;34m\"price\"\u001b[0m\u001b[1;33m:\u001b[0m\u001b[0mw\u001b[0m\u001b[1;33m.\u001b[0m\u001b[0mwsq\u001b[0m\u001b[1;33m(\u001b[0m\u001b[1;34m'160325.SZ'\u001b[0m\u001b[1;33m,\u001b[0m \u001b[1;34m'rt_last'\u001b[0m\u001b[1;33m)\u001b[0m\u001b[1;33m.\u001b[0m\u001b[0mData\u001b[0m\u001b[1;33m[\u001b[0m\u001b[1;36m0\u001b[0m\u001b[1;33m]\u001b[0m\u001b[1;33m[\u001b[0m\u001b[1;36m0\u001b[0m\u001b[1;33m]\u001b[0m\u001b[1;33m,\u001b[0m\u001b[1;33m\u001b[0m\u001b[1;33m\u001b[0m\u001b[0m\n\u001b[0m\u001b[0;32m      6\u001b[0m         \u001b[1;34m\"shares\"\u001b[0m\u001b[1;33m:\u001b[0m\u001b[1;36m0\u001b[0m\u001b[1;33m,\u001b[0m\u001b[1;33m\u001b[0m\u001b[1;33m\u001b[0m\u001b[0m\n\u001b[0;32m      7\u001b[0m         \u001b[1;34m\"expiration\"\u001b[0m\u001b[1;33m:\u001b[0m\u001b[1;33m(\u001b[0m\u001b[0mdatetime\u001b[0m\u001b[1;33m.\u001b[0m\u001b[0mdatetime\u001b[0m\u001b[1;33m(\u001b[0m\u001b[1;36m2022\u001b[0m\u001b[1;33m,\u001b[0m \u001b[1;36m7\u001b[0m\u001b[1;33m,\u001b[0m \u001b[1;36m24\u001b[0m\u001b[1;33m,\u001b[0m \u001b[1;36m0\u001b[0m\u001b[1;33m,\u001b[0m \u001b[1;36m0\u001b[0m\u001b[1;33m,\u001b[0m \u001b[1;36m0\u001b[0m\u001b[1;33m)\u001b[0m \u001b[1;33m-\u001b[0m \u001b[0mdatetime\u001b[0m\u001b[1;33m.\u001b[0m\u001b[0mdatetime\u001b[0m\u001b[1;33m.\u001b[0m\u001b[0mnow\u001b[0m\u001b[1;33m(\u001b[0m\u001b[1;33m)\u001b[0m\u001b[1;33m)\u001b[0m\u001b[1;33m.\u001b[0m\u001b[0mdays\u001b[0m\u001b[1;33m/\u001b[0m\u001b[1;36m365\u001b[0m\u001b[1;33m\u001b[0m\u001b[1;33m\u001b[0m\u001b[0m\n",
      "\u001b[1;31mIndexError\u001b[0m: list index out of range"
     ]
    }
   ],
   "source": [
    "position = {\n",
    "    \"160325\":{\n",
    "        \"name\":\"华夏创业\",\n",
    "        \"ticker\":\"160325.SZ\",\n",
    "        \"price\":w.wsq('160325.SZ', 'rt_last').Data[0][0],\n",
    "        \"shares\":0,\n",
    "        \"expiration\":(datetime.datetime(2022, 7, 24, 0, 0, 0) - datetime.datetime.now()).days/365\n",
    "    }, \n",
    "    \"160926\":{\n",
    "        \"name\":\"创业大成\",\n",
    "        \"ticker\":\"160926.SZ\",\n",
    "        \"price\":w.wsq('160926.SZ', 'rt_last').Data[0][0],\n",
    "        \"shares\":0,\n",
    "        \"expiration\":(datetime.datetime(2022, 7, 16, 0, 0, 0) - datetime.datetime.now()).days/365\n",
    "    }, \n",
    "    \"501080\":{\n",
    "        \"name\":\"科创中金\",\n",
    "        \"ticker\":\"501080.SH\",\n",
    "        \"price\":w.wsq('501080.SH', 'rt_last').Data[0][0],\n",
    "        \"shares\":0,\n",
    "        \"expiration\":(datetime.datetime(2022, 7, 11, 0, 0, 0) - datetime.datetime.now()).days/365\n",
    "    },\n",
    "    \"501082\":{\n",
    "        \"name\":\"科创投资\",\n",
    "        \"ticker\":\"501082.SH\",\n",
    "        \"price\":w.wsq('501082.SH', 'rt_last').Data[0][0],\n",
    "        \"shares\":0,\n",
    "        \"expiration\":(datetime.datetime(2022, 6, 27, 0, 0, 0) - datetime.datetime.now()).days/365\n",
    "    },\n",
    "    \"506002\":{\n",
    "        \"name\":\"易基科创\",\n",
    "        \"ticker\":\"506002.SH\",\n",
    "        \"price\":w.wsq('506002.SH', 'rt_last').Data[0][0],\n",
    "        \"shares\":0,\n",
    "        \"expiration\":(datetime.datetime(2022, 7, 28, 0, 0, 0) - datetime.datetime.now()).days/365\n",
    "    },\n",
    "    \"506003\":{\n",
    "        \"name\":\"富国科创\",\n",
    "        \"ticker\":\"506003.SH\",\n",
    "        \"price\":w.wsq('506003.SH', 'rt_last').Data[0][0],\n",
    "        \"shares\":0,\n",
    "        \"expiration\":(datetime.datetime(2022, 7, 29, 0, 0, 0) - datetime.datetime.now()).days/365\n",
    "    },\n",
    "    \"506006\":{\n",
    "        \"name\":\"添富科创\",\n",
    "        \"ticker\":\"506006.SH\",\n",
    "        \"price\":w.wsq('506006.SH', 'rt_last').Data[0][0],\n",
    "        \"shares\":0,\n",
    "        \"expiration\":(datetime.datetime(2022, 7, 28, 0, 0, 0) - datetime.datetime.now()).days/365\n",
    "    },\n",
    "}"
   ]
  },
  {
   "cell_type": "code",
   "execution_count": 5,
   "id": "e5e9fe3b",
   "metadata": {
    "scrolled": true
   },
   "outputs": [
    {
     "data": {
      "text/plain": [
       "[{'证券代码': '501082',\n",
       "  '证券名称': '科创投资',\n",
       "  '股票余额': 12000,\n",
       "  '可用余额': 0,\n",
       "  '冻结数量': 0,\n",
       "  '成本价': 2.134,\n",
       "  '保本价': 2.135,\n",
       "  '市价': 2.153,\n",
       "  '盈亏比(%)': 0.86,\n",
       "  '盈亏': 220.249,\n",
       "  '市值': 25836.0,\n",
       "  '交易市场': '上海Ａ',\n",
       "  '股东帐户': 'A360822222',\n",
       "  '在途数量': 12000,\n",
       "  'Unnamed: 14': ''},\n",
       " {'证券代码': '506002',\n",
       "  '证券名称': '易基科创',\n",
       "  '股票余额': 21100,\n",
       "  '可用余额': 0,\n",
       "  '冻结数量': 0,\n",
       "  '成本价': 1.169,\n",
       "  '保本价': 1.169,\n",
       "  '市价': 1.174,\n",
       "  '盈亏比(%)': 0.4,\n",
       "  '盈亏': 98.069,\n",
       "  '市值': 24771.4,\n",
       "  '交易市场': '上海Ａ',\n",
       "  '股东帐户': 'A360822222',\n",
       "  '在途数量': 21100,\n",
       "  'Unnamed: 14': ''},\n",
       " {'证券代码': '506006',\n",
       "  '证券名称': '添富科创',\n",
       "  '股票余额': 22000,\n",
       "  '可用余额': 0,\n",
       "  '冻结数量': 0,\n",
       "  '成本价': 1.161,\n",
       "  '保本价': 1.161,\n",
       "  '市价': 1.178,\n",
       "  '盈亏比(%)': 1.43,\n",
       "  '盈亏': 366.225,\n",
       "  '市值': 25916.0,\n",
       "  '交易市场': '上海Ａ',\n",
       "  '股东帐户': 'A360822222',\n",
       "  '在途数量': 22000,\n",
       "  'Unnamed: 14': ''},\n",
       " {'证券代码': '511880',\n",
       "  '证券名称': '银华日利',\n",
       "  '股票余额': 0,\n",
       "  '可用余额': 0,\n",
       "  '冻结数量': 0,\n",
       "  '成本价': 0.0,\n",
       "  '保本价': 0.0,\n",
       "  '市价': 101.434,\n",
       "  '盈亏比(%)': 0.0,\n",
       "  '盈亏': 0.4,\n",
       "  '市值': 0.0,\n",
       "  '交易市场': '上海Ａ',\n",
       "  '股东帐户': 'A360822222',\n",
       "  '在途数量': 100,\n",
       "  'Unnamed: 14': ''},\n",
       " {'证券代码': '160926',\n",
       "  '证券名称': '创业大成',\n",
       "  '股票余额': 20000,\n",
       "  '可用余额': 0,\n",
       "  '冻结数量': 0,\n",
       "  '成本价': 1.205,\n",
       "  '保本价': 1.205,\n",
       "  '市价': 1.214,\n",
       "  '盈亏比(%)': 0.72,\n",
       "  '盈亏': 172.716,\n",
       "  '市值': 24280.0,\n",
       "  '交易市场': '深圳Ａ',\n",
       "  '股东帐户': '0321333959',\n",
       "  '在途数量': 20000,\n",
       "  'Unnamed: 14': ''}]"
      ]
     },
     "execution_count": 5,
     "metadata": {},
     "output_type": "execute_result"
    }
   ],
   "source": [
    "# Display 华泰 position\n",
    "user.position"
   ]
  },
  {
   "cell_type": "markdown",
   "id": "6e8270fd",
   "metadata": {},
   "source": [
    "## Read 华泰 position"
   ]
  },
  {
   "cell_type": "code",
   "execution_count": 43,
   "id": "dc87c61c",
   "metadata": {},
   "outputs": [],
   "source": [
    "ht_position = user.position\n",
    "\n",
    "targets = [\n",
    "    '506002',\n",
    "    '501082',\n",
    "    '506006',\n",
    "    '160926',\n",
    "    '506003',\n",
    "    '160325',\n",
    "    '501080'\n",
    "]\n",
    "\n",
    "for holding in ht_position:\n",
    "    if holding['证券代码'] in targets:\n",
    "        position[holding['证券代码']]['shares'] = holding['在途数量']"
   ]
  },
  {
   "cell_type": "code",
   "execution_count": 45,
   "id": "9e5be40e",
   "metadata": {
    "scrolled": false
   },
   "outputs": [
    {
     "name": "stdout",
     "output_type": "stream",
     "text": [
      "{'160325': {'expiration': 0.9616438356164384,\n",
      "            'name': '华夏创业',\n",
      "            'price': 1.179,\n",
      "            'shares': 0,\n",
      "            'ticker': '160325.SZ'},\n",
      " '160926': {'expiration': 0.9397260273972603,\n",
      "            'name': '创业大成',\n",
      "            'price': 1.214,\n",
      "            'shares': 20000,\n",
      "            'ticker': '160926.SZ'},\n",
      " '501080': {'expiration': 0.9260273972602739,\n",
      "            'name': '科创中金',\n",
      "            'price': 1.726,\n",
      "            'shares': 0,\n",
      "            'ticker': '501080.SH'},\n",
      " '501082': {'expiration': 0.8876712328767123,\n",
      "            'name': '科创投资',\n",
      "            'price': 2.153,\n",
      "            'shares': 12000,\n",
      "            'ticker': '501082.SH'},\n",
      " '506002': {'expiration': 0.9726027397260274,\n",
      "            'name': '易基科创',\n",
      "            'price': 1.174,\n",
      "            'shares': 21100,\n",
      "            'ticker': '506002.SH'},\n",
      " '506003': {'expiration': 0.9753424657534246,\n",
      "            'name': '富国科创',\n",
      "            'price': 0.984,\n",
      "            'shares': 0,\n",
      "            'ticker': '506003.SH'},\n",
      " '506006': {'expiration': 0.9726027397260274,\n",
      "            'name': '添富科创',\n",
      "            'price': 1.178,\n",
      "            'shares': 22000,\n",
      "            'ticker': '506006.SH'}}\n"
     ]
    }
   ],
   "source": [
    "pprint.pprint(position)"
   ]
  },
  {
   "cell_type": "markdown",
   "id": "9ae10326",
   "metadata": {},
   "source": [
    "## Calculate the fee"
   ]
  },
  {
   "cell_type": "code",
   "execution_count": 54,
   "id": "aad5d5e5",
   "metadata": {},
   "outputs": [
    {
     "name": "stdout",
     "output_type": "stream",
     "text": [
      "0.03026788503592629 %\n"
     ]
    }
   ],
   "source": [
    "fee = ((ht_position[0]['市值'] - ht_position[0]['在途数量'] * ht_position[0]['成本价']) - ht_position[0]['盈亏'])/(ht_position[0]['在途数量'] * ht_position[0]['成本价']) * 100\n",
    "\n",
    "print(fee, '%')"
   ]
  },
  {
   "cell_type": "code",
   "execution_count": null,
   "id": "057d7396",
   "metadata": {},
   "outputs": [],
   "source": [
    "naive = portfolio(position, )"
   ]
  },
  {
   "cell_type": "code",
   "execution_count": 30,
   "id": "ae0d1829",
   "metadata": {},
   "outputs": [],
   "source": [
    "def naive1(interval, times, portfolio, threshold):\n",
    "    \n",
    "    cur_times = 0\n",
    "    \n",
    "    log_df = pd.DataFrame()\n",
    "    \n",
    "    while cur_times != times:\n",
    "        \n",
    "        now = datetime.datetime.now()\n",
    "        print(now)\n",
    "        \n",
    "        naive.get_balance()\n",
    "        \n",
    "        # 1. create snapshot to document price and NAV\n",
    "        snapshot = {now : {}}\n",
    "        for ticker, info in portfolio.position.items():\n",
    "            \n",
    "            code = ticker.split('.')[0]\n",
    "            headers = {\n",
    "                'content-type': 'application/json',\n",
    "                'User-Agent': 'Mozilla/5.0 (X11; Ubuntu; Linux x86_64; rv:22.0) Gecko/20100101 Firefox/22.0'\n",
    "            }\n",
    "            response = requests.get(f'https://fundgz.1234567.com.cn/js/{code}.js', headers=headers)\n",
    "            NAV = float(eval(response.text.replace('jsonpgz(', '').replace(');', ''))['gsz'])\n",
    "            \n",
    "            Price = w.wsq(ticker, 'rt_last').Data[0][0]\n",
    "            info['price'] = Price\n",
    "            \n",
    "            AnnualizedRateOfReturn = ((NAV/Price)**(1/info['expiration'])-1)*100\n",
    "            \n",
    "            #NAV, Price, AnnualizedRateOfReturn\n",
    "            snapshot[now][ticker + ' NAV'] = NAV\n",
    "            snapshot[now][ticker + ' Price'] = Price\n",
    "            snapshot[now][ticker + ' AnnualizedRateOfReturn'] = AnnualizedRateOfReturn\n",
    "        \n",
    "        # 2. Trade\n",
    "        trade = 0\n",
    "        for k, v in snapshot[now].items():\n",
    "            print(k, v)\n",
    "        \n",
    "        min_benchmark = 100\n",
    "        zero_holding_tickers = []\n",
    "        \n",
    "        for ticker, info in portfolio.position.items():\n",
    "            \n",
    "            if snapshot[now][ticker + ' AnnualizedRateOfReturn'] < min_benchmark and info['shares'] != 0:\n",
    "                \n",
    "                min_ticker = ticker\n",
    "                min_benchmark = snapshot[now][ticker + ' AnnualizedRateOfReturn']\n",
    "            \n",
    "            if info['shares'] == 0:\n",
    "                \n",
    "                zero_holding_tickers.append(ticker)\n",
    "        \n",
    "        max_benchmark = 0\n",
    "        \n",
    "        print(min_ticker, snapshot[now][min_ticker + \" AnnualizedRateOfReturn\"])\n",
    "        for zero_holding_ticker in zero_holding_tickers:\n",
    "            print(zero_holding_ticker, snapshot[now][min_ticker + \" AnnualizedRateOfReturn\"])\n",
    "            if snapshot['now'][zero_holding_ticker + \" AnnualizedRateOfReturn\"] > max_benchmark:\n",
    "                max_benchmark = snapshot['now'][zero_holding_ticker + \" AnnualizedRateOfReturn\"]\n",
    "                zeroHoldingTickerWithMaxNAV = zero_holding_ticker\n",
    "        \n",
    "        if snapshot[now][zeroHoldingTickerWithMaxNAV + ' AnnualizedRateOfReturn'] - snapshot[now][min_ticker + ' AnnualizedRateOfReturn'] >= threshold:\n",
    "            \n",
    "            trade = 1\n",
    "            sell_cost = naive.position[min_ticker]['shares'] * naive.position[min_ticker]['price'] * fee\n",
    "            naive.sell(min_ticker, naive.position[min_ticker]['shares'], sell_cost)\n",
    "            \n",
    "        snapshot[now]['Capital'] = naive.get_capital()\n",
    "        naive.get_balance()\n",
    "        buy_cost = naive.cash * fee\n",
    "        buy_shares = round((naive.cash - buy_cost)/snapshot[now][zero_holding_ticker + ' price'], -3)\n",
    "        naive.buy(zero_holding_ticker, buy_shares, buy_cost)\n",
    "          \n",
    "            \n",
    "        snapshot[now]['Capital'] = naive.get_capital()\n",
    "        snapshot[now]['Trade'] = trade\n",
    "        log_df = log_df.append(pd.DataFrame(snapshot).T)\n",
    "            \n",
    "        naive.get_balance()\n",
    "        \n",
    "        cur_times += 1\n",
    "        time.sleep(interval)\n",
    "        print('--'*50)\n",
    "    \n",
    "    return log_df"
   ]
  },
  {
   "cell_type": "code",
   "execution_count": 31,
   "id": "6245136e",
   "metadata": {},
   "outputs": [
    {
     "ename": "NameError",
     "evalue": "name 'naive' is not defined",
     "output_type": "error",
     "traceback": [
      "\u001b[1;31m---------------------------------------------------------------------------\u001b[0m",
      "\u001b[1;31mNameError\u001b[0m                                 Traceback (most recent call last)",
      "\u001b[1;32m~\\AppData\\Local\\Temp/ipykernel_5324/4144707686.py\u001b[0m in \u001b[0;36m<module>\u001b[1;34m\u001b[0m\n\u001b[1;32m----> 1\u001b[1;33m \u001b[0mlog_df\u001b[0m \u001b[1;33m=\u001b[0m \u001b[0mnaive1\u001b[0m\u001b[1;33m(\u001b[0m\u001b[1;36m60\u001b[0m\u001b[1;33m,\u001b[0m \u001b[1;36m10\u001b[0m\u001b[1;33m,\u001b[0m \u001b[0mnaive\u001b[0m\u001b[1;33m)\u001b[0m\u001b[1;33m\u001b[0m\u001b[1;33m\u001b[0m\u001b[0m\n\u001b[0m",
      "\u001b[1;31mNameError\u001b[0m: name 'naive' is not defined"
     ]
    }
   ],
   "source": [
    "log_df = naive1(60, 10, naive)"
   ]
  },
  {
   "cell_type": "code",
   "execution_count": null,
   "id": "5d8ca8ba",
   "metadata": {},
   "outputs": [],
   "source": []
  }
 ],
 "metadata": {
  "kernelspec": {
   "display_name": "Python 3 (ipykernel)",
   "language": "python",
   "name": "python3"
  },
  "language_info": {
   "codemirror_mode": {
    "name": "ipython",
    "version": 3
   },
   "file_extension": ".py",
   "mimetype": "text/x-python",
   "name": "python",
   "nbconvert_exporter": "python",
   "pygments_lexer": "ipython3",
   "version": "3.8.8"
  }
 },
 "nbformat": 4,
 "nbformat_minor": 5
}
