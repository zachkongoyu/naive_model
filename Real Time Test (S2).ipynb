{
 "cells": [
  {
   "cell_type": "code",
   "execution_count": 1,
   "id": "f32d6c99",
   "metadata": {
    "scrolled": true
   },
   "outputs": [],
   "source": [
    "import pandas as pd\n",
    "import datetime\n",
    "from WindPy import w\n",
    "import requests\n",
    "from Portfolio import portfolio\n",
    "import time\n",
    "import matplotlib.pyplot as plt\n",
    "import easytrader\n",
    "import pprint\n",
    "import math"
   ]
  },
  {
   "cell_type": "code",
   "execution_count": 2,
   "id": "d849fc78",
   "metadata": {},
   "outputs": [],
   "source": [
    "def rounddown(x, n):\n",
    "    return int(math.floor(x / n)) * n"
   ]
  },
  {
   "cell_type": "markdown",
   "id": "3bf1affb",
   "metadata": {},
   "source": [
    "# 1. Connect to Wind and 华泰"
   ]
  },
  {
   "cell_type": "code",
   "execution_count": 3,
   "id": "1008851d",
   "metadata": {
    "scrolled": false
   },
   "outputs": [
    {
     "name": "stdout",
     "output_type": "stream",
     "text": [
      "Welcome to use Wind Quant API for Python (WindPy)!\n",
      "\n",
      "COPYRIGHT (C) 2020 WIND INFORMATION CO., LTD. ALL RIGHTS RESERVED.\n",
      "IN NO CIRCUMSTANCE SHALL WIND BE RESPONSIBLE FOR ANY DAMAGES OR LOSSES CAUSED BY USING WIND QUANT API FOR Python.\n"
     ]
    },
    {
     "data": {
      "text/plain": [
       ".ErrorCode=0\n",
       ".Data=[OK!]"
      ]
     },
     "execution_count": 3,
     "metadata": {},
     "output_type": "execute_result"
    }
   ],
   "source": [
    "# start WInd\n",
    "w.start()"
   ]
  },
  {
   "cell_type": "code",
   "execution_count": 17,
   "id": "20f3e90b",
   "metadata": {
    "scrolled": true
   },
   "outputs": [],
   "source": [
    "# start 华泰\n",
    "user = easytrader.use('ht_client')\n",
    "user.prepare(user='666637575127', password='671109', comm_password='246810')"
   ]
  },
  {
   "cell_type": "markdown",
   "id": "503b2654",
   "metadata": {},
   "source": [
    "# 2. Get the current position"
   ]
  },
  {
   "cell_type": "markdown",
   "id": "e6c62ca5",
   "metadata": {},
   "source": [
    "## Set up position template\n",
    "## Our desired funds\n",
    "### 1. 160325.SZ 华夏创业 2022/7/24\n",
    "### 2. 160926.SZ 创业大成 2022/7/16\n",
    "### 3. 501080.SH 科创中金 2022/7/11\n",
    "### 4. 501082.SH 科创投资 2022/6/27\n",
    "### 5. 506002.SH 易基科创 2022/7/28\n",
    "### 6. 506003.SH 富国科创 2022/7/29\n",
    "### 7. 506006.SH 添富科创 2022/7/28"
   ]
  },
  {
   "cell_type": "code",
   "execution_count": 8,
   "id": "b1608645",
   "metadata": {},
   "outputs": [],
   "source": [
    "position = {\n",
    "    \"160325\":{\n",
    "        \"name\":\"华夏创业\",\n",
    "        \"ticker\":\"160325.SZ\",\n",
    "        \"price\":w.wsq('160325.SZ', 'rt_last').Data[0][0],\n",
    "        \"shares\":0,\n",
    "        \"expiration\":(datetime.datetime(2022, 7, 24, 0, 0, 0) - datetime.datetime.now()).days/365\n",
    "    }, \n",
    "    \"160926\":{\n",
    "        \"name\":\"创业大成\",\n",
    "        \"ticker\":\"160926.SZ\",\n",
    "        \"price\":w.wsq('160926.SZ', 'rt_last').Data[0][0],\n",
    "        \"shares\":0,\n",
    "        \"expiration\":(datetime.datetime(2022, 7, 16, 0, 0, 0) - datetime.datetime.now()).days/365\n",
    "    }, \n",
    "    \"501080\":{\n",
    "        \"name\":\"科创中金\",\n",
    "        \"ticker\":\"501080.SH\",\n",
    "        \"price\":w.wsq('501080.SH', 'rt_last').Data[0][0],\n",
    "        \"shares\":0,\n",
    "        \"expiration\":(datetime.datetime(2022, 7, 11, 0, 0, 0) - datetime.datetime.now()).days/365\n",
    "    },\n",
    "    \"501082\":{\n",
    "        \"name\":\"科创投资\",\n",
    "        \"ticker\":\"501082.SH\",\n",
    "        \"price\":w.wsq('501082.SH', 'rt_last').Data[0][0],\n",
    "        \"shares\":0,\n",
    "        \"expiration\":(datetime.datetime(2022, 6, 27, 0, 0, 0) - datetime.datetime.now()).days/365\n",
    "    },\n",
    "    \"506002\":{\n",
    "        \"name\":\"易基科创\",\n",
    "        \"ticker\":\"506002.SH\",\n",
    "        \"price\":w.wsq('506002.SH', 'rt_last').Data[0][0],\n",
    "        \"shares\":0,\n",
    "        \"expiration\":(datetime.datetime(2022, 7, 28, 0, 0, 0) - datetime.datetime.now()).days/365\n",
    "    },\n",
    "    \"506003\":{\n",
    "        \"name\":\"富国科创\",\n",
    "        \"ticker\":\"506003.SH\",\n",
    "        \"price\":w.wsq('506003.SH', 'rt_last').Data[0][0],\n",
    "        \"shares\":0,\n",
    "        \"expiration\":(datetime.datetime(2022, 7, 29, 0, 0, 0) - datetime.datetime.now()).days/365\n",
    "    },\n",
    "    \"506006\":{\n",
    "        \"name\":\"添富科创\",\n",
    "        \"ticker\":\"506006.SH\",\n",
    "        \"price\":w.wsq('506006.SH', 'rt_last').Data[0][0],\n",
    "        \"shares\":0,\n",
    "        \"expiration\":(datetime.datetime(2022, 7, 28, 0, 0, 0) - datetime.datetime.now()).days/365\n",
    "    },\n",
    "}"
   ]
  },
  {
   "cell_type": "markdown",
   "id": "9a29fd84",
   "metadata": {},
   "source": [
    "## Read 华泰 position and balance"
   ]
  },
  {
   "cell_type": "code",
   "execution_count": 9,
   "id": "3c43d48c",
   "metadata": {
    "scrolled": true
   },
   "outputs": [],
   "source": [
    "ht_position = user.position\n",
    "\n",
    "targets = [\n",
    "    '506002',\n",
    "    '501082',\n",
    "    '506006',\n",
    "    '160926',\n",
    "    '506003',\n",
    "    '160325',\n",
    "    '501080'\n",
    "]\n",
    "\n",
    "for holding in ht_position:\n",
    "    if holding['证券代码'] in targets:\n",
    "        position[holding['证券代码']]['shares'] = round(holding['市值']/holding['市价'], -2)"
   ]
  },
  {
   "cell_type": "code",
   "execution_count": 10,
   "id": "3f4ef3c5",
   "metadata": {},
   "outputs": [],
   "source": [
    "balance = user.balance"
   ]
  },
  {
   "cell_type": "code",
   "execution_count": 11,
   "id": "946ec9d3",
   "metadata": {},
   "outputs": [],
   "source": [
    "naive = portfolio(cash=balance['可用金额'], position=position)\n",
    "fee = 0.0003"
   ]
  },
  {
   "cell_type": "code",
   "execution_count": 12,
   "id": "fcb7165a",
   "metadata": {},
   "outputs": [],
   "source": [
    "def strategy(interval, portfolio, threshold):\n",
    "    \n",
    "    cur_times = 0\n",
    "    \n",
    "    log_df = pd.DataFrame()\n",
    "    \n",
    "    dt = datetime.datetime.now()\n",
    "    \n",
    "    while dt.time() < datetime.time(15):\n",
    "    \n",
    "        print(dt.time())\n",
    "        now = datetime.datetime.now()\n",
    "        \n",
    "        # 1. create snapshot to document price and NAV\n",
    "        snapshot = {now : {}}\n",
    "        for code, info in portfolio.position.items():\n",
    "            \n",
    "            headers = {\n",
    "                'content-type': 'application/json',\n",
    "                'User-Agent': 'Mozilla/5.0 (X11; Ubuntu; Linux x86_64; rv:22.0) Gecko/20100101 Firefox/22.0'\n",
    "            }\n",
    "            response = requests.get(f'https://fundgz.1234567.com.cn/js/{code}.js', headers=headers)\n",
    "            NAV = float(eval(response.text.replace('jsonpgz(', '').replace(');', ''))['gsz'])\n",
    "            \n",
    "            Price = w.wsq(info['ticker'], 'rt_last').Data[0][0]\n",
    "            info['price'] = Price\n",
    "            AnnualizedRateOfReturn = round(((NAV/Price)**(1/info['expiration'])-1)*100, 2)\n",
    "            #NAV, Price, AnnualizedRateOfReturn\n",
    "            snapshot[now][code + ' NAV'] = NAV\n",
    "            snapshot[now][code + ' Price'] = Price\n",
    "            snapshot[now][code + ' AnnualizedRateOfReturn (%)'] = AnnualizedRateOfReturn\n",
    "        \n",
    "        in_ranks = {k:v for k,v in snapshot[now].items() if \"AnnualizedRateOfReturn (%)\" in k and portfolio.position[k.split(' ')[0]]['shares'] != 0}\n",
    "        out_ranks = {k:v for k,v in snapshot[now].items() if \"AnnualizedRateOfReturn (%)\" in k and portfolio.position[k.split(' ')[0]]['shares'] == 0}\n",
    "        in_ranks = {k.split(' ')[0]:snapshot[now][k] for k in sorted(in_ranks, key=in_ranks.get, reverse=True)}        \n",
    "        out_ranks = {k.split(' ')[0]:snapshot[now][k] for k in sorted(out_ranks, key=out_ranks.get, reverse=True)}\n",
    "        print(\"Holdings: \")\n",
    "        print(in_ranks)\n",
    "        print(\"Not in holdings: \")\n",
    "        print(out_ranks)\n",
    "            \n",
    "        # 2. Trade\n",
    "        if list(out_ranks.items())[0][1] - list(in_ranks.items())[-1][1] >= threshold:\n",
    "            print(f\"Sell {list(in_ranks.items())[-1][0]}\")\n",
    "            print(f\"Buy {list(out_ranks.items())[0][0]}\")\n",
    "            \n",
    "            sale = list(in_ranks.items())[-1][0]\n",
    "            purchase = list(out_ranks.items())[0][0]\n",
    "            \n",
    "            sell_result = user.sell(sale, price=portfolio.position[sale]['price']-0.001, amount=portfolio.position[sale]['shares'])\n",
    "            print(sell_result)\n",
    "            \n",
    "            purchase_amount = rounddown((user.balance['可用金额'] * fee)/(portfolio.position[purchase]['price']+0.001), 100)\n",
    "            buy_result = user.buy(purchase, price=portfolio.position[purchase]['price']+0.001, amount=purchase_amount)\n",
    "            print(buy_result)\n",
    "            \n",
    "        ht_position = user.position\n",
    "\n",
    "        targets = [\n",
    "            '506002',\n",
    "            '501082',\n",
    "            '506006',\n",
    "            '160926',\n",
    "            '506003',\n",
    "            '160325',\n",
    "            '501080'\n",
    "        ]\n",
    " \n",
    "        for holding in ht_position:\n",
    "            if holding['证券代码'] in targets:\n",
    "                position[holding['证券代码']]['shares'] = round(holding['市值']/holding['市价'], -2)\n",
    "                \n",
    "        portfolio.position = position\n",
    "        portfolio.cash = user.balance['可用金额']\n",
    "        \n",
    "        time.sleep(interval)\n",
    "        dt = datetime.datetime.now()\n",
    "\n",
    "    return log_df"
   ]
  },
  {
   "cell_type": "code",
   "execution_count": 14,
   "id": "3e9d6dc1",
   "metadata": {
    "scrolled": false
   },
   "outputs": [
    {
     "name": "stdout",
     "output_type": "stream",
     "text": [
      "14:58:51.147600\n",
      "Holdings: \n",
      "{'506002': 13.86, '160926': 13.81, '501082': 13.81, '506003': 13.76}\n",
      "Not in holdings: \n",
      "{'160325': 13.43, '501080': 12.69, '506006': 12.25}\n",
      "14:59:57.329600\n",
      "Holdings: \n",
      "{'160926': 13.81, '501082': 13.8, '506002': 13.79, '506003': 13.79}\n",
      "Not in holdings: \n",
      "{'160325': 13.51, '501080': 12.72, '506006': 12.15}\n"
     ]
    }
   ],
   "source": [
    "log_df = strategy(60, naive, threshold=1)"
   ]
  },
  {
   "cell_type": "code",
   "execution_count": null,
   "id": "286c24ad",
   "metadata": {},
   "outputs": [],
   "source": [
    "dt = datetime.datetime.now()"
   ]
  },
  {
   "cell_type": "code",
   "execution_count": null,
   "id": "790345ec",
   "metadata": {},
   "outputs": [],
   "source": [
    "dt.time()"
   ]
  },
  {
   "cell_type": "code",
   "execution_count": 18,
   "id": "72b049e5",
   "metadata": {
    "scrolled": false
   },
   "outputs": [
    {
     "data": {
      "text/plain": [
       "[{'成交日期': 20210809,\n",
       "  '成交时间': '13:21:09',\n",
       "  '证券代码': '506003',\n",
       "  '证券名称': '富国科创',\n",
       "  '操作': '买入',\n",
       "  '成交数量': 640,\n",
       "  '成交均价': 0.978,\n",
       "  '成交金额': 625.92,\n",
       "  '交易市场': '上海Ａ',\n",
       "  '股东帐户': 'A360822222',\n",
       "  '成交编号': 148381,\n",
       "  '合同编号': '49943',\n",
       "  'Unnamed: 12': ''},\n",
       " {'成交日期': 20210809,\n",
       "  '成交时间': '13:21:09',\n",
       "  '证券代码': '506003',\n",
       "  '证券名称': '富国科创',\n",
       "  '操作': '买入',\n",
       "  '成交数量': 25600,\n",
       "  '成交均价': 0.978,\n",
       "  '成交金额': 25036.8,\n",
       "  '交易市场': '上海Ａ',\n",
       "  '股东帐户': 'A360822222',\n",
       "  '成交编号': 148380,\n",
       "  '合同编号': '49943',\n",
       "  'Unnamed: 12': ''},\n",
       " {'成交日期': 20210809,\n",
       "  '成交时间': '13:21:09',\n",
       "  '证券代码': '506003',\n",
       "  '证券名称': '富国科创',\n",
       "  '操作': '买入',\n",
       "  '成交数量': 260,\n",
       "  '成交均价': 0.978,\n",
       "  '成交金额': 254.28,\n",
       "  '交易市场': '上海Ａ',\n",
       "  '股东帐户': 'A360822222',\n",
       "  '成交编号': 148379,\n",
       "  '合同编号': '49943',\n",
       "  'Unnamed: 12': ''},\n",
       " {'成交日期': 20210809,\n",
       "  '成交时间': '13:19:11',\n",
       "  '证券代码': '506006',\n",
       "  '证券名称': '添富科创',\n",
       "  '操作': '卖出',\n",
       "  '成交数量': 21302,\n",
       "  '成交均价': 1.18,\n",
       "  '成交金额': 25136.36,\n",
       "  '交易市场': '上海Ａ',\n",
       "  '股东帐户': 'A360822222',\n",
       "  '成交编号': 147427,\n",
       "  '合同编号': '49656',\n",
       "  'Unnamed: 12': ''},\n",
       " {'成交日期': 20210809,\n",
       "  '成交时间': '13:18:39',\n",
       "  '证券代码': '506006',\n",
       "  '证券名称': '添富科创',\n",
       "  '操作': '卖出',\n",
       "  '成交数量': 698,\n",
       "  '成交均价': 1.18,\n",
       "  '成交金额': 823.64,\n",
       "  '交易市场': '上海Ａ',\n",
       "  '股东帐户': 'A360822222',\n",
       "  '成交编号': 147217,\n",
       "  '合同编号': '49656',\n",
       "  'Unnamed: 12': ''}]"
      ]
     },
     "execution_count": 18,
     "metadata": {},
     "output_type": "execute_result"
    }
   ],
   "source": [
    "user.today_trades"
   ]
  },
  {
   "cell_type": "code",
   "execution_count": 23,
   "id": "d0212485",
   "metadata": {},
   "outputs": [],
   "source": [
    "user.refresh()"
   ]
  },
  {
   "cell_type": "code",
   "execution_count": null,
   "id": "b6335b90",
   "metadata": {},
   "outputs": [],
   "source": []
  }
 ],
 "metadata": {
  "kernelspec": {
   "display_name": "Python 3 (ipykernel)",
   "language": "python",
   "name": "python3"
  },
  "language_info": {
   "codemirror_mode": {
    "name": "ipython",
    "version": 3
   },
   "file_extension": ".py",
   "mimetype": "text/x-python",
   "name": "python",
   "nbconvert_exporter": "python",
   "pygments_lexer": "ipython3",
   "version": "3.8.8"
  }
 },
 "nbformat": 4,
 "nbformat_minor": 5
}
